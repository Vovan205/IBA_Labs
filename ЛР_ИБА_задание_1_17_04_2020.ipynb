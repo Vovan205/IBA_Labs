{
  "nbformat": 4,
  "nbformat_minor": 0,
  "metadata": {
    "colab": {
      "name": "ЛР ИБА задание 1 17.04.2020.ipynb",
      "provenance": [],
      "authorship_tag": "ABX9TyPWLDakN0ZLWriNROsBV6bC",
      "include_colab_link": true
    },
    "kernelspec": {
      "name": "python3",
      "display_name": "Python 3"
    }
  },
  "cells": [
    {
      "cell_type": "markdown",
      "metadata": {
        "id": "view-in-github",
        "colab_type": "text"
      },
      "source": [
        "<a href=\"https://colab.research.google.com/github/Vovan205/IBA_Labs/blob/master/%D0%9B%D0%A0_%D0%98%D0%91%D0%90_%D0%B7%D0%B0%D0%B4%D0%B0%D0%BD%D0%B8%D0%B5_1_17_04_2020.ipynb\" target=\"_parent\"><img src=\"https://colab.research.google.com/assets/colab-badge.svg\" alt=\"Open In Colab\"/></a>"
      ]
    },
    {
      "cell_type": "markdown",
      "metadata": {
        "id": "cyRxIgSuNplm",
        "colab_type": "text"
      },
      "source": [
        "# Задание №1. Многорукий бандит.\n",
        "Есть n игровых автоматов, в каждом из которых фиксирована вероятность выигрыша. Цель агента — найти слот-машину с наибольшим ожидаемым выигрышем и всегда выбирать именно её."
      ]
    },
    {
      "cell_type": "code",
      "metadata": {
        "id": "8jUXUvYFB1Q6",
        "colab_type": "code",
        "outputId": "fd7b9548-e9a2-4f4f-d25b-33fe3a9086ce",
        "colab": {
          "base_uri": "https://localhost:8080/",
          "height": 462
        }
      },
      "source": [
        "import tensorflow as tf\n",
        "import numpy as np\n",
        "#Список бандитов.\n",
        "bandits = []\n",
        "#Кол-во бандитов\n",
        "k = 5 \n",
        "j = 0\n",
        "while j < k:\n",
        "    i = np.random.randn(1)\n",
        "    bandits.append(i)\n",
        "    j+=1\n",
        "print (bandits)\n",
        "num_bandits = len(bandits)\n",
        "def pullBandit(bandit):\n",
        "    result = np.random.randn(1)\n",
        "    if result > bandit:\n",
        "        return 1\n",
        "    else:\n",
        "        return -1\n",
        "\n",
        "import tensorflow.compat.v1 as tf\n",
        "tf.disable_v2_behavior()\n",
        "\n",
        "weights = tf.Variable(tf.ones([num_bandits]))\n",
        "chosen_action = tf.argmax(weights,0)\n",
        "\n",
        "reward_holder = tf.placeholder(shape=[1],dtype=tf.float32)\n",
        "action_holder = tf.placeholder(shape=[1],dtype=tf.int32)\n",
        "responsible_weight = tf.slice(weights,action_holder,[1])\n",
        "loss = -(tf.log(responsible_weight)*reward_holder)\n",
        "optimizer = tf.train.GradientDescentOptimizer(learning_rate=0.001)\n",
        "update = optimizer.minimize(loss)\n",
        "\n",
        "total_episodes = 1000 #Количество итераций обучения\n",
        "total_reward = np.zeros(num_bandits) \n",
        "e = 0.1 #Вероятность случайного выбора\n",
        "init = tf.global_variables_initializer()\n",
        "\n",
        "with tf.Session() as sess:\n",
        "    sess.run(init)\n",
        "    i = 0\n",
        "    while i < total_episodes:\n",
        "                \n",
        "        if np.random.rand(1) < e:\n",
        "            action = np.random.randint(num_bandits)\n",
        "        else:\n",
        "            action = sess.run(chosen_action)\n",
        "    \n",
        "        reward = pullBandit(bandits[action]) \n",
        "        \n",
        "        _,resp,ww = sess.run([update,responsible_weight,weights], \n",
        "                      feed_dict={reward_holder:[reward],action_holder:[action]})\n",
        "        \n",
        "        total_reward[action] += reward\n",
        "        if i % 50 == 0:\n",
        "            print(\"Общий выигрыш сейчас равен \" + str(num_bandits) + \n",
        "            \" бандитов: \" + str(total_reward))\n",
        "        i+=1\n",
        "print(\"Агент думает, что бандит №\" + str(np.argmax(ww)+1) + \" лучший\")"
      ],
      "execution_count": 0,
      "outputs": [
        {
          "output_type": "stream",
          "text": [
            "[array([0.80600941]), array([0.48100379]), array([-0.24130215]), array([0.59457966]), array([-0.09755685])]\n",
            "WARNING:tensorflow:From /usr/local/lib/python3.6/dist-packages/tensorflow/python/compat/v2_compat.py:96: disable_resource_variables (from tensorflow.python.ops.variable_scope) is deprecated and will be removed in a future version.\n",
            "Instructions for updating:\n",
            "non-resource variables are not supported in the long term\n",
            "Общий выигрыш сейчас равен 5 бандитов: [ 0. -1.  0.  0.  0.]\n",
            "Общий выигрыш сейчас равен 5 бандитов: [-2.  0.  5.  0.  0.]\n",
            "Общий выигрыш сейчас равен 5 бандитов: [-2.  0. 25.  0.  0.]\n",
            "Общий выигрыш сейчас равен 5 бандитов: [-4.  0. 29.  0.  2.]\n",
            "Общий выигрыш сейчас равен 5 бандитов: [-5.  0. 41. -1.  4.]\n",
            "Общий выигрыш сейчас равен 5 бандитов: [-5.  0. 43. -4.  5.]\n",
            "Общий выигрыш сейчас равен 5 бандитов: [-8. -1. 47. -6.  5.]\n",
            "Общий выигрыш сейчас равен 5 бандитов: [-9. -1. 68. -8.  5.]\n",
            "Общий выигрыш сейчас равен 5 бандитов: [-9. -2. 85. -9.  6.]\n",
            "Общий выигрыш сейчас равен 5 бандитов: [-10.  -3. 105.  -9.   6.]\n",
            "Общий выигрыш сейчас равен 5 бандитов: [-12.  -5. 115.  -9.   8.]\n",
            "Общий выигрыш сейчас равен 5 бандитов: [-13.  -5. 119.  -9.   9.]\n",
            "Общий выигрыш сейчас равен 5 бандитов: [-11.  -5. 127. -10.   8.]\n",
            "Общий выигрыш сейчас равен 5 бандитов: [-12.  -5. 144. -12.   8.]\n",
            "Общий выигрыш сейчас равен 5 бандитов: [-13.  -6. 153. -13.   8.]\n",
            "Общий выигрыш сейчас равен 5 бандитов: [-13.  -6. 162. -15.   7.]\n",
            "Общий выигрыш сейчас равен 5 бандитов: [-14.  -7. 188. -15.   7.]\n",
            "Общий выигрыш сейчас равен 5 бандитов: [-14.  -9. 188. -15.   7.]\n",
            "Общий выигрыш сейчас равен 5 бандитов: [-16. -10. 199. -15.   7.]\n",
            "Общий выигрыш сейчас равен 5 бандитов: [-16. -11. 206. -17.   7.]\n",
            "Агент думает, что бандит №3 лучший\n"
          ],
          "name": "stdout"
        }
      ]
    }
  ]
}